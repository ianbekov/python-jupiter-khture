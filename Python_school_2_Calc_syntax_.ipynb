{
  "metadata": {
    "language_info": {
      "name": "python"
    },
    "kernelspec": {
      "name": "python3",
      "display_name": "Python 3"
    },
    "colab": {
      "provenance": [],
      "toc_visible": true,
      "include_colab_link": true
    },
    "gpuClass": "standard"
  },
  "nbformat_minor": 0,
  "nbformat": 4,
  "cells": [
    {
      "cell_type": "markdown",
      "metadata": {
        "id": "view-in-github",
        "colab_type": "text"
      },
      "source": [
        "<a href=\"https://colab.research.google.com/github/ianbekov/python-jupiter-khture/blob/main/Python_school_2_Calc_syntax_.ipynb\" target=\"_parent\"><img src=\"https://colab.research.google.com/assets/colab-badge.svg\" alt=\"Open In Colab\"/></a>"
      ]
    },
    {
      "cell_type": "markdown",
      "source": [
        "# 1. Використання Python як калькулятора"
      ],
      "metadata": {
        "id": "-KpWQX-yCMFh"
      }
    },
    {
      "cell_type": "markdown",
      "source": [
        "\n",
        "\n",
        "> Переконайтесь, що `Python` працює та спробуйте ці приклади."
      ],
      "metadata": {
        "id": "SNI0VpoiD98V"
      }
    },
    {
      "cell_type": "code",
      "source": [
        "2000 + 1000"
      ],
      "metadata": {
        "colab": {
          "base_uri": "https://localhost:8080/"
        },
        "id": "SFEvBz6SL4PS",
        "outputId": "8b7b9b91-6f7d-463f-aad7-5b0cf61849c9"
      },
      "execution_count": null,
      "outputs": [
        {
          "output_type": "execute_result",
          "data": {
            "text/plain": [
              "3000"
            ]
          },
          "metadata": {},
          "execution_count": 5
        }
      ]
    },
    {
      "cell_type": "markdown",
      "source": [
        "Цілі числа можуть мати будь-яку довжину та бути від’ємними."
      ],
      "metadata": {
        "id": "TQQEEpX8MRtO"
      }
    },
    {
      "cell_type": "code",
      "source": [
        "1000000000000000000000000000000 * -2000000000000000000000000000000"
      ],
      "metadata": {
        "id": "B9ykYEY0MaCB",
        "colab": {
          "base_uri": "https://localhost:8080/"
        },
        "outputId": "079fbb66-b1fa-47a0-8fbc-85c275ad8cb6"
      },
      "execution_count": null,
      "outputs": [
        {
          "output_type": "execute_result",
          "data": {
            "text/plain": [
              "-2000000000000000000000000000000000000000000000000000000000000"
            ]
          },
          "metadata": {},
          "execution_count": 1
        }
      ]
    },
    {
      "cell_type": "markdown",
      "source": [
        "**Floats** - числа з десятковим знаком. Усі вони повертатимуть плаваючі floats:"
      ],
      "metadata": {
        "id": "s4yU8RKzMuSX"
      }
    },
    {
      "cell_type": "code",
      "source": [
        "-1.1 - 2.2"
      ],
      "metadata": {
        "id": "g3Ycctt_M5Hl",
        "colab": {
          "base_uri": "https://localhost:8080/"
        },
        "outputId": "cc52d95d-38ad-4e42-f98d-8686949cfdaa"
      },
      "execution_count": null,
      "outputs": [
        {
          "output_type": "execute_result",
          "data": {
            "text/plain": [
              "-3.3000000000000003"
            ]
          },
          "metadata": {},
          "execution_count": 6
        }
      ]
    },
    {
      "cell_type": "markdown",
      "source": [
        "- тільки одне число є плаваючою точкою"
      ],
      "metadata": {
        "id": "cdKpHdhBNZG9"
      }
    },
    {
      "cell_type": "code",
      "source": [
        "1.2 * 4"
      ],
      "metadata": {
        "id": "o7VmxvtqNLFl",
        "colab": {
          "base_uri": "https://localhost:8080/"
        },
        "outputId": "50477bca-5ee3-43af-951d-481b1bdb6e35"
      },
      "execution_count": null,
      "outputs": [
        {
          "output_type": "execute_result",
          "data": {
            "text/plain": [
              "4.8"
            ]
          },
          "metadata": {},
          "execution_count": 7
        }
      ]
    },
    {
      "cell_type": "markdown",
      "source": [
        "-цілі числа, що закінчуються на . є також floats"
      ],
      "metadata": {
        "id": "ECDwIAEKNfjt"
      }
    },
    {
      "cell_type": "code",
      "source": [
        "2. + 2"
      ],
      "metadata": {
        "id": "YdcqG_eXNQw2",
        "colab": {
          "base_uri": "https://localhost:8080/"
        },
        "outputId": "d5f19a1c-e06e-4aed-96cc-617d2e108cba"
      },
      "execution_count": null,
      "outputs": [
        {
          "output_type": "execute_result",
          "data": {
            "text/plain": [
              "4.0"
            ]
          },
          "metadata": {},
          "execution_count": 8
        }
      ]
    },
    {
      "cell_type": "markdown",
      "source": [
        "- ділення завжди повертає float"
      ],
      "metadata": {
        "id": "jdsbuqikNt2B"
      }
    },
    {
      "cell_type": "code",
      "source": [
        "4/1"
      ],
      "metadata": {
        "id": "s07NV-3aNXuq",
        "colab": {
          "base_uri": "https://localhost:8080/"
        },
        "outputId": "707f040c-9f09-431b-ce4e-3e0fef68ddb9"
      },
      "execution_count": null,
      "outputs": [
        {
          "output_type": "execute_result",
          "data": {
            "text/plain": [
              "4.0"
            ]
          },
          "metadata": {},
          "execution_count": 10
        }
      ]
    },
    {
      "cell_type": "markdown",
      "source": [
        "При цілочисельному діленні 5/3 дорівнює 1 залишку 2."
      ],
      "metadata": {
        "id": "CiAvqobxOvUm"
      }
    },
    {
      "cell_type": "code",
      "source": [
        "5 // 3"
      ],
      "metadata": {
        "id": "-ptpLZzBPTNe",
        "colab": {
          "base_uri": "https://localhost:8080/"
        },
        "outputId": "7484085d-1dcb-4439-b84b-ad3761b42094"
      },
      "execution_count": null,
      "outputs": [
        {
          "output_type": "execute_result",
          "data": {
            "text/plain": [
              "1"
            ]
          },
          "metadata": {},
          "execution_count": 11
        }
      ]
    },
    {
      "cell_type": "markdown",
      "source": [
        "*5* % 3 є оператором модуля і повертає , що є залишком після цілочисельного ділення."
      ],
      "metadata": {
        "id": "wMzG5HrBPUh0"
      }
    },
    {
      "cell_type": "code",
      "source": [
        "5 % 3"
      ],
      "metadata": {
        "id": "GI3o7hr7Pic_",
        "colab": {
          "base_uri": "https://localhost:8080/"
        },
        "outputId": "8dc2a32f-19b6-4e65-a1b8-a3ea202e3449"
      },
      "execution_count": null,
      "outputs": [
        {
          "output_type": "execute_result",
          "data": {
            "text/plain": [
              "2"
            ]
          },
          "metadata": {},
          "execution_count": 12
        }
      ]
    },
    {
      "cell_type": "markdown",
      "source": [
        "Показники ступеня:"
      ],
      "metadata": {
        "id": "txD-dIVDPlaA"
      }
    },
    {
      "cell_type": "code",
      "source": [
        "3 ** 2"
      ],
      "metadata": {
        "id": "iWK2GfKUPulR",
        "colab": {
          "base_uri": "https://localhost:8080/"
        },
        "outputId": "61af3822-a3fd-428a-de2a-dbb2059ded39"
      },
      "execution_count": null,
      "outputs": [
        {
          "output_type": "execute_result",
          "data": {
            "text/plain": [
              "9"
            ]
          },
          "metadata": {},
          "execution_count": 13
        }
      ]
    },
    {
      "cell_type": "markdown",
      "source": [
        "Порядок виконання операцій"
      ],
      "metadata": {
        "id": "bdKygeCRP0Jh"
      }
    },
    {
      "cell_type": "code",
      "source": [
        "1 - 2 ** 3 / 4 + 5 * 6"
      ],
      "metadata": {
        "id": "HvfHfDsFP-Rf"
      },
      "execution_count": null,
      "outputs": []
    },
    {
      "cell_type": "code",
      "source": [
        "1 - ((2 ** 3) / 4) + (5 * 6)"
      ],
      "metadata": {
        "id": "te-rYr42P_cY"
      },
      "execution_count": null,
      "outputs": []
    },
    {
      "cell_type": "markdown",
      "source": [
        "чи"
      ],
      "metadata": {
        "id": "5_pshro4QAO6"
      }
    },
    {
      "cell_type": "code",
      "source": [
        "1 - ((8) / 4) + (30)"
      ],
      "metadata": {
        "id": "ic8XmKTLQJVP",
        "colab": {
          "base_uri": "https://localhost:8080/"
        },
        "outputId": "16a55649-5c5d-4d9a-c1f2-1040d6fcdfda"
      },
      "execution_count": null,
      "outputs": [
        {
          "output_type": "execute_result",
          "data": {
            "text/plain": [
              "29.0"
            ]
          },
          "metadata": {},
          "execution_count": 14
        }
      ]
    },
    {
      "cell_type": "code",
      "source": [
        "1 - (2) + (30)"
      ],
      "metadata": {
        "id": "aSw0VHHZQJhu",
        "colab": {
          "base_uri": "https://localhost:8080/"
        },
        "outputId": "f1aecb0f-b327-4bc2-e508-92e7a03bd6a7"
      },
      "execution_count": null,
      "outputs": [
        {
          "output_type": "execute_result",
          "data": {
            "text/plain": [
              "29"
            ]
          },
          "metadata": {},
          "execution_count": 15
        }
      ]
    },
    {
      "cell_type": "markdown",
      "source": [
        "Змінні"
      ],
      "metadata": {
        "id": "vHLqEgV8QS_L"
      }
    },
    {
      "cell_type": "code",
      "source": [
        "pi = 3.1415\n",
        "radius_circle = 7\n",
        "\n",
        "another_area_square = 100\n",
        "\n",
        "a = 1\n",
        "b = 2\n",
        "\n",
        "circle_area = 100 #це площа кругу\n",
        "\n",
        "anotherCircleAreaNext = 120\n",
        "\n",
        "\n",
        "print(r)\n",
        "area = pi * r ** 2\n",
        "print(area)"
      ],
      "metadata": {
        "id": "i9RF-iJxQSRo",
        "colab": {
          "base_uri": "https://localhost:8080/"
        },
        "outputId": "83d7fdb4-c442-4456-f266-99186a187884"
      },
      "execution_count": null,
      "outputs": [
        {
          "output_type": "stream",
          "name": "stdout",
          "text": [
            "7\n",
            "10\n",
            "153.9335\n"
          ]
        }
      ]
    },
    {
      "cell_type": "markdown",
      "source": [
        "# Синтаксис Python\n",
        "\n"
      ],
      "metadata": {
        "id": "La7CgnrO2Lkh"
      }
    },
    {
      "cell_type": "markdown",
      "source": [
        "# Ідентифікатори та літерали"
      ],
      "metadata": {
        "id": "Kck1hSiTU_4Y"
      }
    },
    {
      "cell_type": "markdown",
      "source": [
        "# Ідентифікатор\n",
        "Ідентифікатор – це ім’я, яке використовується для\n",
        "ідентифікації змінної, функції, класу, модуля або іншого об’єкту.\n",
        "\n",
        "Ідентифікатор може містити тільки такі символи:\n",
        "\n",
        "* літери в нижньому регістрі (від \"a\" до \"z\");\n",
        "* літери у верхньому регістрі (від \"A\" до \"Z\") (Python є\n",
        "регістро-чутливою мовою програмування);\n",
        "* цифри (від 0 до 9);\n",
        "* нижнє підкреслення (_);\n",
        "* не можуть співпадати з зарезервованими словами.\n",
        "\n"
      ],
      "metadata": {
        "id": "ecuwlLh5VDVL"
      }
    },
    {
      "cell_type": "markdown",
      "source": [
        "# Зарезервовані слова Python.\n",
        "\n",
        "![pic3](https://lh6.googleusercontent.com/YJNVM94EGL-00A3y_VJ_n_jMDr7Z10HaocSiA3iXhjGwZZYzhe9iNnajYcT6vWB3kfQ=w2400 \"pic3\")\n"
      ],
      "metadata": {
        "id": "VOcEsmAQ7A30"
      }
    },
    {
      "cell_type": "markdown",
      "source": [
        "\n",
        "\n",
        "Імена не можуть починатися з цифри.\n",
        "\n",
        "Коректними є такі імена:"
      ],
      "metadata": {
        "id": "ViCrrYbo79Uv"
      }
    },
    {
      "cell_type": "code",
      "source": [],
      "metadata": {
        "id": "TAHOUnTj8LaR"
      },
      "execution_count": null,
      "outputs": []
    },
    {
      "cell_type": "markdown",
      "source": [
        "\n",
        "\n",
        "Наступні імена є некоректними:"
      ],
      "metadata": {
        "id": "Eb-kic7T8U64"
      }
    },
    {
      "cell_type": "code",
      "source": [],
      "metadata": {
        "id": "iRi0AmlA8Tmx"
      },
      "execution_count": null,
      "outputs": []
    },
    {
      "cell_type": "markdown",
      "source": [
        "# Відступи\n",
        "\n",
        "\n",
        "Код написаний мовою програмування Python не потребує\n",
        "фігурних дужок для позначення блоків коду для визначення\n",
        "класів та функцій або регулювання потоку. Блоки коду\n",
        "відокремлюються за допомогою рядкового відступу, якого\n",
        "необхідно жорстко дотримуватися.\n",
        "Кількість пробілів у відступах є змінною, але всі оператори в\n",
        "блоці повинні бути відокремлені відступими однакової\n",
        "розмірності.\n",
        "\n",
        "![pic3](https://lh4.googleusercontent.com/Bv4w7x6joj5-LPItgNJfwnvEoPiB5fedGGtrVDG8TfPvccS_jiYQ3s8VhI_RDD5BnHY=w2400 \"pic3\")\n"
      ],
      "metadata": {
        "id": "OYaTieZy67QK"
      }
    },
    {
      "cell_type": "code",
      "source": [
        "if True: \n",
        "  print (\"True\");\n",
        "  print (\"True\");\n",
        "  print (\"True\");\n",
        "else:\n",
        "  print (\"False\")"
      ],
      "metadata": {
        "colab": {
          "base_uri": "https://localhost:8080/"
        },
        "id": "8JDSx1vFWT35",
        "outputId": "4c9cc93c-bbc7-4428-c300-830849af4285"
      },
      "execution_count": null,
      "outputs": [
        {
          "output_type": "stream",
          "name": "stdout",
          "text": [
            "True\n",
            "True\n",
            "True\n"
          ]
        }
      ]
    },
    {
      "cell_type": "code",
      "source": [
        "if True:\n",
        "  print (\"Answer\")\n",
        "  print (\"True\")\n",
        "else:\n",
        "  print (\"Answer\")\n",
        " print (\"False\")"
      ],
      "metadata": {
        "colab": {
          "base_uri": "https://localhost:8080/",
          "height": 130
        },
        "id": "OR7qiyy5We1b",
        "outputId": "af8b7e2e-7ef3-4fb1-a5e5-dd3916dedaa2"
      },
      "execution_count": null,
      "outputs": [
        {
          "output_type": "error",
          "ename": "IndentationError",
          "evalue": "ignored",
          "traceback": [
            "\u001b[0;36m  File \u001b[0;32m\"<tokenize>\"\u001b[0;36m, line \u001b[0;32m6\u001b[0m\n\u001b[0;31m    print (\"False\")\u001b[0m\n\u001b[0m    ^\u001b[0m\n\u001b[0;31mIndentationError\u001b[0m\u001b[0;31m:\u001b[0m unindent does not match any outer indentation level\n"
          ]
        }
      ]
    },
    {
      "cell_type": "markdown",
      "source": [
        "Кількість пробілів залежить від вас як програміста, але вона повинна бути принаймні однією."
      ],
      "metadata": {
        "id": "YdKkS29E2uAg"
      }
    },
    {
      "cell_type": "code",
      "source": [
        "if 5 > 2:\n",
        "  print(\"П'ять більше ніж два!\") \n",
        "if 5 < 2:\n",
        "  print(\"П'ять більше ніж два!\") "
      ],
      "metadata": {
        "colab": {
          "base_uri": "https://localhost:8080/",
          "height": 130
        },
        "id": "95KirE6N2ut0",
        "outputId": "b7a69033-93b3-41a2-c610-c8bfe6d92b39"
      },
      "execution_count": null,
      "outputs": [
        {
          "output_type": "error",
          "ename": "SyntaxError",
          "evalue": "ignored",
          "traceback": [
            "\u001b[0;36m  File \u001b[0;32m\"<ipython-input-5-a4dd5a2aecfc>\"\u001b[0;36m, line \u001b[0;32m2\u001b[0m\n\u001b[0;31m    print(\"П'ять більше ніж два!\")\u001b[0m\n\u001b[0m    ^\u001b[0m\n\u001b[0;31mSyntaxError\u001b[0m\u001b[0;31m:\u001b[0m invalid character in identifier\n"
          ]
        }
      ]
    },
    {
      "cell_type": "markdown",
      "source": [
        "Треба використовувати однакову кількість пробілів в одному блоці коду, інакше Python видасть помилку:"
      ],
      "metadata": {
        "id": "G4LOlqU426u5"
      }
    },
    {
      "cell_type": "code",
      "source": [
        "if 5 > 2:\n",
        "  print(\"П'ять більше ніж два!\")\n",
        "  print(\"П'ять більше ніж два!\") "
      ],
      "metadata": {
        "id": "Z_JAHPxd29LJ"
      },
      "execution_count": null,
      "outputs": []
    },
    {
      "cell_type": "markdown",
      "source": [
        "# Багаторядкові речення\n",
        "\n",
        "Python приймає одиничні ('), подвійні ('') і потрійні (' '' або '')\n",
        "лапки, щоб позначити строкові літерали. Необхідною умовою є\n",
        "те що рядок має починатися і закінчуватися одним типом лапок.\n",
        "Однак, всередині рядка можна використовувати інші види лапок.\n",
        "Потрійні лапки використовуються для розбиття рядка на\n",
        "кілька рядків. Наприклад\n",
        "\n",
        "![pic3](https://lh3.googleusercontent.com/c7W3newohYtilG0J-3bUjHcTr_KkCRpVd8YdYGMKAZNp7L9NRC94k5yMNkQMnYgJLGc=w2400 \"pic3\")\n"
      ],
      "metadata": {
        "id": "bvdDk8aJWwGY"
      }
    },
    {
      "cell_type": "code",
      "source": [
        "word = \"word\"\n",
        "print (word)\n",
        "sentence = 'This is a sentence.'\n",
        "print (sentence)\n",
        "paragraph = \"\"\"This is a paragraph. It is\n",
        "made up of multiple lines and sentences.\n",
        "Next string\n",
        "Next string\n",
        "Another value\"\"\"\n",
        "print(paragraph)"
      ],
      "metadata": {
        "colab": {
          "base_uri": "https://localhost:8080/"
        },
        "id": "af4murRNXTuv",
        "outputId": "1b805675-954a-416b-bd80-47e9dfc3ff7f"
      },
      "execution_count": null,
      "outputs": [
        {
          "output_type": "stream",
          "name": "stdout",
          "text": [
            "word\n",
            "This is a sentence.\n",
            "This is a paragraph. It is\n",
            "made up of multiple lines and sentences.\n",
            "Next string\n",
            "Next string\n",
            "Another value\n"
          ]
        }
      ]
    },
    {
      "cell_type": "markdown",
      "source": [
        "# Багаторядкові призначення\n",
        "\n",
        "![pic3](https://lh5.googleusercontent.com/AssVFistp8Y86POaEYzXwc5-aiSifPgN5Ka_vPDiTxFKplig1nRTdz1nWsE-3lPj4-E=w2400 \"pic3\")\n",
        "\n",
        "\n",
        "\n",
        "\n"
      ],
      "metadata": {
        "id": "1e-5WNgcGiSm"
      }
    },
    {
      "cell_type": "code",
      "source": [
        "days = [ 'Monday',\n",
        "         'Tuesday', \n",
        "         'Wednesday', \n",
        "         'Thursday', \n",
        "         'Friday']\n",
        "names = ( 'Jason',\n",
        "          'Arnold',\n",
        "          'Jean',\n",
        "          'Ernie',\n",
        "          'Julia' )\n",
        "print(days)\n",
        "print(names)\n"
      ],
      "metadata": {
        "colab": {
          "base_uri": "https://localhost:8080/"
        },
        "id": "Xip-ORwMHuBn",
        "outputId": "f37f27ca-9ff3-452f-f7c9-1fa2428c667f"
      },
      "execution_count": 2,
      "outputs": [
        {
          "output_type": "stream",
          "name": "stdout",
          "text": [
            "['Monday', 'Tuesday', 'Wednesday', 'Thursday', 'Friday']\n",
            "('Jason', 'Arnold', 'Jean', 'Ernie', 'Julia')\n"
          ]
        }
      ]
    },
    {
      "cell_type": "markdown",
      "source": [
        "![pic3](https://lh6.googleusercontent.com/1zuosk1-Swcc6TNKEi4Q5IU_XUn78gUY-ceQ8bkU5sUY5lpf84gLWVxWyhP1Z-Dl2zc=w2400 \"pic3\")"
      ],
      "metadata": {
        "id": "bSuJHVudHv6r"
      }
    },
    {
      "cell_type": "markdown",
      "source": [
        "# Коментарі\n",
        "\n",
        "По мірі збільшення розмірів програм рано чи пізно код стане\n",
        "складніше читати. Для підвищення зрозумілості коду, його\n",
        "корисно доповнювати коментарями на природній мові, і\n",
        "більшість мов програмування, у тому числі Python, надають\n",
        "таку можливість.\n",
        "\n",
        "![pic3](https://lh5.googleusercontent.com/X2Hu_z2-hzepSzUQdF3scY0T9-WmAeSsA8yUnUqSOfzMdfXuHtjhxvfyVVxdeyG3-7g=w2400 \"pic3\")\n",
        "\n",
        "\n",
        "\n",
        "---\n",
        "\n",
        "\n",
        "Коментування коду вважається правилом \"хорошого тону\".\n",
        "Коли над програмою працює один програміст, то відсутність\n",
        "коментарів компенсується хорошим знанням коду, але при роботі\n",
        "в команді, за рідкісними винятками, коментарі просто необхідні. Але.\n",
        "\n",
        "---\n",
        "\n",
        "**Коментар** – це фрагмент тексту у програмі, який буде\n",
        "проігнорований інтерпретатором Python. Можна використовувати\n",
        "коментарі, щоб дати пояснення до коду, зробити якісь позначки\n",
        "для себе, або для чогось ще. Коментар позначається символом #;\n",
        "все, що знаходиться після # до кінця поточного рядка, є\n",
        "коментарем. Зазвичай коментар розташовується на\n",
        "окремому рядку:"
      ],
      "metadata": {
        "id": "QnPi93tqXv36"
      }
    },
    {
      "cell_type": "code",
      "source": [
        "# Підрахунок процентного співвідношення двох величин: 20 та 80\n",
        "percentage = 100 * 20 / 80\n",
        "print (percentage, \"%\")"
      ],
      "metadata": {
        "colab": {
          "base_uri": "https://localhost:8080/"
        },
        "id": "2FT5dqT_YHsk",
        "outputId": "3e3c8a1f-92b9-4272-d1f3-600403c36683"
      },
      "execution_count": null,
      "outputs": [
        {
          "output_type": "stream",
          "name": "stdout",
          "text": [
            "25.0 %\n"
          ]
        }
      ]
    },
    {
      "cell_type": "markdown",
      "source": [
        "Або на тому самому рядку, що і код, який потрібно пояснити:"
      ],
      "metadata": {
        "id": "oHXaEQRwY0zB"
      }
    },
    {
      "cell_type": "code",
      "source": [
        "print (100 * 20 / 80, \"%\") # Підрахунок процентного співвідношення двох величин: 20 та 80"
      ],
      "metadata": {
        "colab": {
          "base_uri": "https://localhost:8080/"
        },
        "id": "ZCQi7JGaYcd7",
        "outputId": "573e4a73-c270-4801-81f7-3f5a6beb35c3"
      },
      "execution_count": null,
      "outputs": [
        {
          "output_type": "stream",
          "name": "stdout",
          "text": [
            "25.0 %\n"
          ]
        }
      ]
    },
    {
      "cell_type": "markdown",
      "source": [
        "Символ # має багато імен: хеш, шарп, фунт або октоторп.\n",
        "Коментар діє тільки до кінця рядка, на якому він\n",
        "розташовується.\n",
        "Однак якщо символ # знаходиться всередині текстового\n",
        "рядка, він стає простим символом #:"
      ],
      "metadata": {
        "id": "mFOz7TI2ZJ21"
      }
    },
    {
      "cell_type": "code",
      "source": [
        "print(\"Без коментарів #\")"
      ],
      "metadata": {
        "id": "1Y83aEU6ZLJb"
      },
      "execution_count": null,
      "outputs": []
    },
    {
      "cell_type": "markdown",
      "source": [
        "# Поняття літералу в Python. Особливості використання літералів. Приклади літералів\n",
        "\n",
        "У мові програмування Python літерал – це вираз (або константа), що створює (генерує) об’єкт. Якщо в тексті програми зустрічається літерал, то для цього літералу створюється окремий об’єкт деякого типу. Тобто, система генерує відповідний код, що створює об’єкт який містить значення цього літералу. Створений об’єкт має визначений час існування.\n",
        "\n",
        "На відміну від інших мов програмування (C++, C# та інших) у мові Python термін “константа” означає, що літерали не є об’єктами які не можна змінювати. Так звані об’єкти-константи в Python можуть бути змінені.\n",
        "\n",
        "\n",
        "\n",
        "```\n",
        "1234\n",
        "2.71\n",
        "1+2j\n",
        "'Hello world!'\n",
        "[1, 3, [2, 4, 6]]\n",
        "{ 'Sun', 'Mon', 'Tue', 'Wed' }\n",
        "set('jklmn')\n",
        "```\n",
        "\n"
      ],
      "metadata": {
        "id": "IRRjm7B6Zrk5"
      }
    },
    {
      "cell_type": "markdown",
      "source": [
        "Cтандарт стилю написання коду.\n",
        "\n",
        "![pic3](https://lh3.googleusercontent.com/lIbtAG6CwMMzTzsgUaPB7I5pg6pqprA7VHt1iqr4mvqNBOU1f64TBzKu3sG1bsukSg4=w2400 \"pic3\")\n"
      ],
      "metadata": {
        "id": "OG0hww7REw7O"
      }
    }
  ]
}