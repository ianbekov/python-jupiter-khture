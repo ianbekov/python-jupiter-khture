{
  "metadata": {
    "language_info": {
      "name": "python"
    },
    "kernelspec": {
      "name": "python3",
      "display_name": "Python 3"
    },
    "colab": {
      "provenance": [],
      "toc_visible": true,
      "include_colab_link": true
    },
    "gpuClass": "standard"
  },
  "nbformat_minor": 0,
  "nbformat": 4,
  "cells": [
    {
      "cell_type": "markdown",
      "metadata": {
        "id": "view-in-github",
        "colab_type": "text"
      },
      "source": [
        "<a href=\"https://colab.research.google.com/github/ianbekov/python-jupiter-khture/blob/main/Python_school_1_Intro.ipynb\" target=\"_parent\"><img src=\"https://colab.research.google.com/assets/colab-badge.svg\" alt=\"Open In Colab\"/></a>"
      ]
    },
    {
      "cell_type": "markdown",
      "source": [
        "# 1. Що таке Python"
      ],
      "metadata": {
        "id": "-KpWQX-yCMFh"
      }
    },
    {
      "cell_type": "markdown",
      "source": [
        "\n",
        "![pic1](https://lh3.googleusercontent.com/kkeVcuvvvWP7-GD_uzzcKWF3cGWb6VC1JuOknZii8CRbiSmaAvVkqtjPMUcSKxqeI74=w2400 \"pic1\")"
      ],
      "metadata": {
        "id": "NwS7ObhCL7_s"
      }
    },
    {
      "cell_type": "markdown",
      "source": [
        "\n",
        "\n",
        "> Історична довідка\n",
        "\n",
        "\n",
        "Python  – динамічна інтерпретована об’єктно-орієнтована скриптова мова програмування із строгою динамічною типізацією. Розроблена в 1990 році голандським програмістом Гвідо ван Россумом.\n",
        "\n",
        "![pic1](https://lh6.googleusercontent.com/F8Cs1LYBHfjlcfZKDBKb7rZfFJV6uPVHjzGt-6Mr0Djz_2oCOGdzu4Epk-Zh4VuxAgA=w2400 \"pic1\")\n",
        "\n",
        "\n",
        "Автор назвав мову на честь популярного британського комедійного серіалу 1970-х років «Літаючий цирк Монті Пайтона». Найчастіше вживане прочитання назви мови — «Па́йтон».\n",
        "\n",
        "Мова почала швидко розвиватися, оскільки з’явилася велика\n",
        "кількість людей, що були зацікавлені та розумілися в розвитку\n",
        "мов програмування. Спочатку це була досить проста мова,\n",
        "невеликий інтерпретатор, незначна кількість функцій, об’єктно-\n",
        "орієнтоване програмування було відсутнім, але дуже швидко все\n",
        "це з’явилося та до сьогоднішнього дня продовжується її розвиток\n",
        "та виходять нові версії, де кожна наступна має декілька суттєвих\n",
        "відмінностей від попередньої.\n",
        "\n",
        "Офіційний сайт мови програмування Python https://www.python.org/ .\n",
        "\n",
        "\n",
        "\n",
        "---\n",
        "\n",
        "\n",
        "# Python в реальному світі\n",
        "\n",
        "\n",
        "\n",
        "\n",
        "* Python – багатоцільова мова програмування, яка дозволяє писати код, що добре читається. Відносний лаконізм мови Python дозволяє створити програму, яка буде набагато коротше свого аналога, написаного на іншій мові.\n",
        "\n",
        "![pic1](https://lh3.googleusercontent.com/B44VwbzkHwo4-kio_JBsJ4R7EiU81AusgclHtT2S7IUeTnK4DNvh3_e2LHxZXeyh-0w=w2400 \"pic1\")\n",
        "\n",
        "* Python - багатоплатформова мова програмування. Це означає, що програми на Python можна запускати в різних операційних системах без будь-яких змін.\n",
        "\n",
        "* Ще однією перевагою Python є його стандартна бібліотека, яка встановлюється разом з Python і містить готові інструменти для роботи з операційною системою, веб-сторінками, базами даних, різними форматами даних, для побудови графічного інтерфейсу програм тощо.\n",
        "\n",
        "* Програми, написані на мові програмування Python, можуть бути як невеликими скриптами, так і складними системами.\n",
        "\n",
        "* Python абсолютно безкоштовний.\n",
        "\n",
        "![pic1](https://lh5.googleusercontent.com/vEWDmwq_FhIbCmnAZ59568P7yUgGPxNYr9raYoiJfmWWFf8KjZBBlxDmemCf7CZoP-0=w2400 \"pic1\")\n"
      ],
      "metadata": {
        "id": "SNI0VpoiD98V"
      }
    },
    {
      "cell_type": "markdown",
      "source": [
        "# Чому Python"
      ],
      "metadata": {
        "id": "AqQ1PR7IDAvT"
      }
    },
    {
      "cell_type": "markdown",
      "source": [
        "# Tренди використання Python\n",
        "\n",
        "* Популярний ресурс StackOwerflow\n",
        "\n",
        "![pic1](https://lh5.googleusercontent.com/CzZN3z45PGeA72TLKp9xFDE2otaSy-ad6q2WoOgAjh-TiP-aLoPdFUaPZag1R2-rBeI=w2400 \"pic1\")\n",
        "\n",
        "* Tiobe index\n",
        "\n",
        "![pic1](https://lh4.googleusercontent.com/MzWc7nIAYON-P7oPVEf88B8tzH2fbljL03mm0yTjQ_Z8E3f1btwMYrYSR4e1SA__vtk=w2400 \"pic1\")\n",
        "\n",
        "\n",
        "\n",
        "\n",
        "#  Використання Python\n",
        "\n",
        "Python використовується для різних цілей: для створення ігор і веб-застосунків, розробки внутрішніх інструментів для різноманітніх проектів. Мова також широко застосовується в науковій області для досліджень і розв’язування прикладних завдань.\n",
        "\n",
        "* веб-розробка (на стороні сервера). Python можна використовувати на сервері для створення веб-додатків\n",
        "\n",
        "![pic1](https://lh4.googleusercontent.com/u6EAR_9cMGl8cOa1sV4IX1AYzvAupJ0B6jh5Cn3Cecip3luij-v2SEJygvmFc4aHQ0Y=w2400 \"pic1\")\n",
        "\n",
        "\n",
        "\n",
        "* розробка програмного забезпечення. Python можна використовувати поряд із програмним забезпеченням для створення робочих процесів.\n",
        "\n",
        "![pic1](https://lh4.googleusercontent.com/QwnvEpzqtZxbMgVjPseVrf-sqBFCXUUNqlPvJ1BY7tSrf1R-z2Fmea9yGQta5Lb6YIM=w2400 \"pic1\")\n",
        "\n",
        "* інтеграція з базами даних. Python може підключатися до систем баз даних. Він також може читати та змінювати файли\n",
        "\n",
        "![pic1](https://lh4.googleusercontent.com/eBPsqvFy23EKtX3VP-Bobv05qjpR4cmjFri57JcYBc09Pi_bDpTmQmTElNkW5b7alN4=w2400 \"pic1\")\n",
        "\n",
        "* високозавантажені додатки\n",
        "\n",
        "![pic1](https://lh5.googleusercontent.com/8swfltcv9nMc5ZZkwUlQud88iNv6eaD8FjqdC2Bar3JP0sgrSYz8Q_wf2IBK1IQWfMw=w2400 \"pic1\")\n",
        "\n",
        "\n",
        "\n",
        "* **наукові пакети (математика)**. Python може використовуватися для обробки великих даних та виконання складної математики\n",
        "\n",
        "![pic1](https://lh4.googleusercontent.com/H6VDxwoPlZihBskt4UnqD8j5kTbEZaMlR2gGnb7jWq8jpwQDDKbd3CS9Sage0mGvFpU=w2400 \"pic1\")\n",
        "\n",
        "* системні скрипти\n",
        "\n",
        "* Python може бути використаний для швидкого створення прототипів або для розробки готового програмного забезпечення\n",
        "\n",
        "\n",
        "\n",
        "\n",
        "# Чому треба вивчати Python?\n",
        "\n",
        "* Python працює на різних платформах (Windows, Mac, Linux, Raspberry Pi тощо)\n",
        "* Python має простий синтаксис, подібний до англійської мови\n",
        "* Python має синтаксис, який дозволяє розробникам писати програми з меншою кількістю рядків, ніж деякі інші мови програмування\n",
        "* Python працює в системі інтерпретатора, що означає, що код може бути виконаний відразу після його написання. Це означає, що створення прототипів може бути дуже швидким\n",
        "* До Python можна звертатися процедурним, об’єктно-орієнтованим або функціональним способом\n",
        "\n",
        "\n",
        "\n",
        "---\n",
        "\n",
        "\n",
        "> Застосування мови програмування Python\n",
        "\n",
        "\n",
        "1.   Ubuntu Software Center  – вільне програмне забезпечення для пошуку, установки і видалення пакунків в системі Ubuntu Linux.\n",
        "2.   Blender  – програма для створення тривимірної комп’ютерної графіки, що включає засоби моделювання, анімації, вимальовування, пост-обробки відео, а також створення відеоігор.\n",
        "3.   GIMP  – растровий графічний редактор, із підтримкою векторної графіки.\n",
        "4.   World of Tanks.\n",
        "5.   Вільна енциклопедія Вікіпедія.\n",
        "6.   Пошукова система Google.\n",
        "![pic1](https://lh4.googleusercontent.com/6-9EoZXefnAzx8GtveXXGax7CU50f4Xff9rKsuSpo_IBwqHTFiaKulkMYdLUdcFaFcs=w2400 \"pic1\")\n",
        "\n",
        "7.   DropBox  – файловий хостинг, що включає персональне хмарне сховище, синхронізацію файлів і програму-клієнт.\n",
        "\n",
        "![pic1](https://lh6.googleusercontent.com/7d7N5Sg7_MHwjVCv-gyHgOdFOTJnawqyZK6_j8woxJC5lK5YRewHCeWXZFuA_A4OTbs=w2400 \"pic1\")\n",
        "\n",
        "8.   YouTube  – популярне відеосховище.\n",
        "9.   BitTorrent  – протокол для обміну даними.\n",
        "\n",
        "![pic1](https://lh6.googleusercontent.com/dY2Zh-ZlTtsBvFbvlmVLB3SEC2Y5drdRrXIUYPKjaeZQ2TwYCvdHns73RBowhHAvJGg=w2400 \"pic1\")\n",
        "\n",
        "10. Openstack\n",
        "\n",
        "![pic1](https://lh3.googleusercontent.com/2NW7Nk0mWmdexMLLzIGPG-4Zw7C-LDCqH_qYqt0q5HfGj5YgHdJcQr5luCu1wDkKYUg=w2400 \"pic1\")\n",
        "\n",
        "11. Instagram\n",
        "\n",
        "![pic1](https://lh6.googleusercontent.com/ezPNzXaPfKX25i_p6Mbvy87Zf5JV8sSb5M6qD812dgPL2wSFOQhQ1kG5IoBmmjpSPrI=w2400 \"pic1\")\n",
        "\n",
        "\n",
        "\n",
        "---\n",
        "\n",
        "> Синтаксис Python у порівнянні з іншими мовами програмування\n",
        "\n",
        "\n",
        "\n",
        "1. Python було розроблено для читабельності та має певну схожість з англійською мовою.\n",
        "2. Python використовує нові рядки для виконання команди, на відміну від інших мов програмування, які часто використовують крапки з комою або дужки\n",
        "3. Python покладається на відступ, використовуючи пробіли, щоб визначити область дії; такі як область дії циклів, функції та класи. Інші мови програмування часто використовують для цього фігурні дужки\n",
        "\n",
        "\n",
        "\n",
        "\n",
        "\n",
        "\n",
        "\n",
        "\n",
        "\n",
        "\n",
        "\n",
        "\n",
        "\n",
        "\n",
        "\n",
        "\n"
      ],
      "metadata": {
        "id": "3kj8FG9HFf2H"
      }
    },
    {
      "cell_type": "markdown",
      "source": [
        "\n",
        "\n",
        "---\n",
        "Хоча Python є досить швидким для більшості застосунків,\n",
        "проте його швидкості може виявитися не завжди недостатньою.\n",
        "Якщо програма проводить більшу частину часу за обчисленнями\n",
        "(\"обмежена швидкодією процесора\" (CPU-bound)), то мови С,\n",
        "С++ або Java впораються із завданням набагато краще, ніж\n",
        "Python. Але не завжди. Іноді більш якісний алгоритм (покрокове\n",
        "рішення) для Python перевершує за швидкістю неефективний\n",
        "алгоритм для С. Більш висока швидкість розробки для Python дає\n",
        "більше часу для експериментів над альтернативними рішеннями.\n",
        "\n",
        "\n",
        "---\n",
        "\n",
        "Стандартний інтерпретатор Python написаний на С і може\n",
        "бути поліпшений за допомогою додаткового коду.\n",
        "Інтерпретатори для Python стають швидшими. Мова Java була\n",
        "дуже повільною, коли тільки з’явилася, і для її прискорення було\n",
        "витрачено багато часу і грошей. Мовою програмування Python не\n",
        "володіє ні одна корпорація, тому він поліпшується більш плавно."
      ],
      "metadata": {
        "id": "EjuUjIXtTMEO"
      }
    },
    {
      "cell_type": "markdown",
      "source": [
        "Python – інтерпретована мова програмування, що створює\n",
        "байт-код (файли з розширенням .pyc, які з’являються у папці із\n",
        "текстами програм під час їх виконання) для більш швидкої\n",
        "роботи."
      ],
      "metadata": {
        "id": "VWDk7aj8UETR"
      }
    },
    {
      "cell_type": "markdown",
      "source": [
        "# Початок роботи з Python\n"
      ],
      "metadata": {
        "id": "PqH2DgGHAzWs"
      }
    },
    {
      "cell_type": "markdown",
      "source": [
        "Початок роботи з Python\n",
        "\n",
        "---\n",
        "\n",
        "\n",
        "\n",
        "> Версії Python\n",
        "\n",
        "Мови програмування з часом змінюються - розробники додають в них нові можливості, а також виправляють помилки. Так з’являються різні версії мови. Наприклад, код написаний на Python 2 у більшості випадків не буде працювати у версії Python 3 без внесення додаткових змін.\n",
        "\n",
        "**Основна команда розробників мови Python припиняє підтримку версії Python 2.x з 1 січня 2020 року.**\n",
        "\n",
        "\n",
        "---\n",
        "\n",
        "На багатьох ПК та Mac вже встановлено Python.\n",
        "\n",
        "Щоб перевірити, чи встановлений у вас Python на ПК з ОС Windows, знайдіть у панелі запуску Python або запустіть наступне в командному рядку (cmd.exe):\n",
        "\n",
        "C:\\Users\\Ім’я вашого ПК>python --version\n",
        "\n",
        "Щоб перевірити, чи встановлений у вас Python на Linux або Mac, то на Linux відкрийте командний рядок, а на Mac відкрийте термінал і введіть:\n",
        "\n",
        "python --version\n",
        "Якщо ви виявите, що на вашому комп’ютері не встановлено Python, ви можете завантажити його безплатно з наступного вебсайту: https://www.python.org/\n",
        "\n",
        "\n",
        "Версії інтерпретатора Python для різних операційних систем доступні для безкоштовного завантаження за адресою https://www.python.org/downloads .\n",
        "\n",
        "![pic1](https://lh6.googleusercontent.com/KTD4IprM75aL3Wf2N163I6gLzaS4gdfJ00Z0MQSIm3_AwQVbzUpSeBe2xuHg1Ear35o=w2400 \"pic1\")\n",
        "\n",
        "\n",
        "1.   [Встановлення на Windows/Unix.](https://pythonguide.rozh2sch.org.ua/#appendix%D0%90)\n",
        "\n",
        "\n",
        "![pic3](https://lh3.googleusercontent.com/Auy-Oz-9lHZDOG-3Oh55xRFa-YsvCG8AWniz9hPLPfMBBVk5hZ4wGIW1_lIF2LUaOs0=w2400 \"pic3\")\n",
        "\n",
        "\n",
        "\n",
        "2.   [Середовище програмування для Python.](https://pythonguide.rozh2sch.org.ua/#appendixB)\n",
        "\n",
        "Для написання програм використовують текстові редактори або інтегровані середовища розробки, які включають в себе різні інструменти для роботи з кодом: засіб для написання коду (текстовий редактор), інтерактивний інтерпретатор, відлагоджувач тощо.\n",
        "\n",
        "Текстові редактори та інтегровані середовища програмування для Python\n",
        "1. IDLE  - стандартний редактор Python. Встановлюється разом з Python для \n",
        "користувачів Windows, окремим пакунком для користувачів Linux.\n",
        "\n",
        "2. Notepad++  - безкоштовний текстовий редактор початкового коду, який підтримує велику кількість мов, в тому числі і Python. Лише для користувачів Windows.\n",
        "\n",
        "3. Visual Studio Code  - це легкий, але потужний редактор початкового коду, який розповсюджується безкоштовно і доступний у версіях для платформ Linux, Windows і macOS.\n",
        "\n",
        "![pic3](https://lh6.googleusercontent.com/EZN7qGJ2qI3AW-s8cb81iZ2lLqYVuDstyxoAt5iK7IWem3nXybXRAT9J1SiwdNH0Lcs=w2400 \"pic3\")\n",
        "\n",
        "\n",
        "4. PyScripter  - інтегроване середовище розробки для мови програмування Python. Для користувачів Windows. Поширюється безкоштовно.\n",
        "\n",
        "5. Wing IDE 101  - вільне інтегроване середовище для Python, розроблене для навчання програмістів-початківців. Для користувачів Linux, Windows і macOS. Поширюється безкоштовно.\n",
        "\n",
        "6. Geany  - вільний текстовий редактор з базовими елементами інтегрованого середовища розробки, доступний для операційних систем Linux, Windows і macOS.\n",
        "\n",
        "7. PyCharm  - інтегроване середовище розробки для мови програмування Python. PyCharm є власницьким програмним забезпеченням. Наявна безкоштовна версія Community з усіченим набором можливостей. Для користувачів Linux, Windows і macOS.\n",
        "\n",
        "![pic1](https://lh3.googleusercontent.com/8MpMf0kMhuiYmo6Jd1854Cr5wpdy92cX0jPEYyIsviY8-O-D9pIaXp_sYbUYkJVsjF0=w2400 \"pic1\")\n",
        "\n",
        "\n",
        "8. Thonny  - IDE для вивчення програмування мовою Python. Для користувачів Linux, Windows і macOS.\n",
        "\n",
        "9. Mu  - редактор коду Python для програмістів-початківців. Для користувачів Linux, Windows і macOS.\n",
        "\n",
        "10. Atom\n",
        "\n",
        "![pic3](https://lh4.googleusercontent.com/UsN10aMlMg0IAfMdmUq2X02rnxcyrIPhq2kXNtiVu2ZWdyyJ6BZ0jFBf_DOZ8xYamiU=w2400 \"pic3\")\n",
        "\n",
        "11. Sublime \n",
        "\n",
        "![pic3](https://lh4.googleusercontent.com/P06kgj4avr_wdlEPPu547E8FJ0jap2toBRcURrHCezWspsFiGmQ9KLPtdfNjDMcY7hA=w2400 \"pic3\")\n",
        "\n",
        "12. Vim\n",
        "\n",
        "![pic3](https://lh3.googleusercontent.com/aq6yqLJvhizPSVAgWVeMcovjHq6fJ938vJEsrTMjRs9TjyeBF53jxTbyiyDaMjZ1jHc=w2400 \"pic3\")\n",
        "\n",
        "\n",
        "Для написання програм мовою Python можна використовувати онлайн-середовище repl.it ."
      ],
      "metadata": {
        "id": "0D-gIxO1AlIC"
      }
    },
    {
      "cell_type": "markdown",
      "source": [
        "# Запуск Python: інтерактивний інтерпретатор"
      ],
      "metadata": {
        "id": "-9n0Q3NkJZar"
      }
    },
    {
      "cell_type": "markdown",
      "source": [
        "У режимі інтерактивного інтерпретатора команди вводяться у термінальному вікні (консольне вікно, вікно командного рядка) одна за одною і по натисненні клавіші Enter відразу виконуються з відображенням результату виконання.\n",
        "\n",
        "Щоб відкрити вікно терміналу:\n",
        "\n",
        "* натисніть сполучення клавіш `Win+R` на клавіатурі, введіть \n",
        "команду cmd, натисніть OK (для користувачів Windows);\n",
        "\n",
        "* натиcніть сполучення клавіш `Ctrl+Alt+T` (для користувачів Linux Ubuntu).\n",
        "\n",
        "У термінальному вікні, що з’явилося, введіть команду (у випадку використання Windows):\n",
        "\n",
        "* `python`\n",
        "\n",
        "або (у випадку використання Linux Ubuntu можна вказати версію Python, наприклад, 3.9):\n",
        "\n",
        "* `python3.9`\n",
        "\n",
        "Якщо на екрані з’явиться запрошення >>> до введення команд, значить система виявила встановлену версію Python:\n",
        "\n",
        "Введіть в інтерактивному режимі інтерпретатора наступний рядок\n",
        "\n"
      ],
      "metadata": {
        "id": "5vaPufviJcrz"
      }
    },
    {
      "cell_type": "code",
      "source": [
        "print('Hey, World!')\n",
        "\n",
        "print(\"Hey, students\")"
      ],
      "metadata": {
        "colab": {
          "base_uri": "https://localhost:8080/"
        },
        "id": "KPp1a8b5KEMp",
        "outputId": "b5f05b8f-76eb-4025-9218-4204b1489fd0"
      },
      "execution_count": null,
      "outputs": [
        {
          "output_type": "stream",
          "name": "stdout",
          "text": [
            "Hey, World!\n",
            "Hey, students\n"
          ]
        }
      ]
    },
    {
      "cell_type": "markdown",
      "source": [
        "натисніть **Enter** і переконайтеся в тому, що на екрані з’явилось повідомлення Hello, Python!:\n",
        "\n",
        "\n",
        "\n",
        "> Функція `print()` входить у стандартну бібілотеку Python. Вона виводить інформацію, вказану в дужках, на екран або записує у файл.\n",
        "\n",
        "Щоб вийти з режиму інтерактивного інтерпретатора Python, натисніть Ctrl+Z і Enter у Windows, Ctrl+D у Linux Ubuntu або виконайте команду exit() .\n",
        "\n",
        "\n"
      ],
      "metadata": {
        "id": "RxSB3yYmKO9N"
      }
    },
    {
      "cell_type": "markdown",
      "source": [
        "\n",
        "# Робота з файлами Python"
      ],
      "metadata": {
        "id": "PCVt3ctNKxmT"
      }
    },
    {
      "cell_type": "markdown",
      "source": [
        "Програми, написані на мові Python, зберігають у вигляді текстових файлів з розширенням **.py.** В текстовому редакторі створіть новий файл і введіть у нього рядок:\n",
        "\n"
      ],
      "metadata": {
        "id": "M-xgtrioL5N6"
      }
    },
    {
      "cell_type": "code",
      "source": [
        "print(\"Hello, Python!\")\n"
      ],
      "metadata": {
        "colab": {
          "base_uri": "https://localhost:8080/"
        },
        "id": "JdiMDpyfMOcM",
        "outputId": "301c821f-00f6-402e-e417-cf86bef5eb0a"
      },
      "execution_count": null,
      "outputs": [
        {
          "output_type": "stream",
          "name": "stdout",
          "text": [
            "Hello, Python!\n"
          ]
        }
      ]
    },
    {
      "cell_type": "markdown",
      "source": [
        "Збережіть файл з іменем hello.py у каталог python_work\n",
        "\n",
        "Такі файли з кодом програми можна запускати у термінальному вікні.\n",
        "\n",
        "> Відкрийте термінальне вікно (вікно командного рядка): натисніть сполучення клавіш `Win+R` на клавіатурі, введіть команду `cmd`, натисніть OK і виконайте команди:\n",
        "\n",
        "C:\\Users>User> `cd Desktop`\n",
        "\n",
        "\n",
        "C:\\Users>User\\Desktop> `cd python_work `\n",
        "\n",
        "\n",
        "C:\\Users>User\\Desktop\\python_work> `dir` \n",
        "\n",
        "\n",
        "\n",
        "C:\\Users>User\\Desktop\\python_work> `python hello.py `\n",
        "\n",
        "\n",
        "\n",
        "\n",
        "\n",
        "1. Переходимо у каталог Desktop (Стільниця) з використанням команди `cd`.\n",
        "\n",
        "2. Переходимо у каталог python_work з використанням команди `cd`.\n",
        "\n",
        "3. Читаємо вміст каталогу python_work з використанням команди `dir`.\n",
        "\n",
        "4. Відображення вмісту (присутній єдиний файл hello.py).\n",
        "\n",
        "5. Запускаємо на виконання файл hello.py (ввести python та ім’я файла).\n",
        "\n",
        "Відображення результату у вікні терміналу."
      ],
      "metadata": {
        "id": "ybpLVuj7MkxU"
      }
    },
    {
      "cell_type": "markdown",
      "source": [
        "# Командний рядок Python\n"
      ],
      "metadata": {
        "id": "sw_xX2fmVvA3"
      }
    },
    {
      "cell_type": "markdown",
      "source": [
        "Щоб протестувати невелику кількість коду в Python, іноді найшвидше і найпростіше не писати код у файл. Це стало можливим, оскільки Python можна запускати як сам командний рядок.\n",
        "\n",
        "Введіть у командному рядку Windows, Mac або Linux наступне:\n",
        "\n",
        "\n",
        "> C:\\Users\\Ім’я вашого ПК>python\n",
        "\n",
        "Або, якщо команда \"python\" не спрацювала, ви можете спробувати \"py\":\n",
        "\n",
        "> C:\\Users\\Ім’я вашого ПК>py\n",
        "\n",
        "Звідти ви можете написати будь-який Python, включаючи приклад з Hello World з попередньої теми:\n",
        "\n",
        "> C:\\Users\\Ім’я вашого ПК>python\n",
        "\n",
        "\n",
        "```\n",
        "Python 3.6.4 (v3.6.4:d48eceb, Dec 19 2017, 06:04:45) [MSC v.1900 32 bit (Intel)] on win32\n",
        "Type \"help\", \"copyright\", \"credits\" or \"license\" for more information.\n",
        ">>> print(\"Hello, World!\")\n",
        "```\n",
        "\n",
        "Який напише \"Hello, World!\" в командному рядку:\n",
        "\n",
        "\n",
        "```\n",
        "C:\\Users\\Ім’я вашого ПК>python\n",
        "Python 3.6.4 (v3.6.4:d48eceb, Dec 19 2017, 06:04:45) [MSC v.1900 32 bit (Intel)] on win32\n",
        "Type \"help\", \"copyright\", \"credits\" or \"license\" for more information.\n",
        ">>> print(\"Hello, World!\")\n",
        "Hello, World!\n",
        "```\n",
        "\n",
        "Щоразу, коли ви закінчите в командному рядку Python, ви можете просто ввести наступне, щоб вийти з інтерфейсу командного рядка Python:\n",
        "\n",
        "```\n",
        "exit()\n",
        "```\n",
        "\n",
        "або\n",
        "\n",
        "```\n",
        "quit()\n",
        "```\n",
        "\n",
        "або\n",
        "\n",
        "```\n",
        "Ctrl + D\n",
        "```"
      ],
      "metadata": {
        "id": "VE4tgiHRWTOB"
      }
    },
    {
      "cell_type": "markdown",
      "source": [
        "# Дзен Python.\n",
        "> Красиве краще за потворне.\n",
        " Beautufil is better than ugly.\n",
        "\n",
        "> Просте краще за складне.\n",
        " Simple is better than complex.\n",
        "\n",
        "> Складне краще за заплутане.\n",
        " Complex is better than complicated.\n",
        "\n",
        "> Має існувати, бажано, ліше один очевідний спосіб це зробити.\n",
        "\n",
        "> Ліпше зараз, ніж ніколи. Хоча ніколи краще, ніж *прямо* зараз.\n",
        " Now is better than never.\n",
        "\n",
        "> Явне краще, ніж неявне.\n",
        "\n",
        "> Читабельність має значення.\n",
        "\n",
        "> Спеціальні випадки недостатньо особливі, щоб їх зламати правил. Хоча практичність перемагає чистоту.\n",
        "\n",
        "\n",
        "> Помилки ніколи не повинні проходити мовчки. Якщо це явно не замовчено.\n",
        "\n",
        "\n",
        "> Зіткнувшись з двозначністю, відмовтеся від спокуси\n",
        "вгадати.\n",
        "\n",
        "\n",
        "> Якщо реалізацію важко пояснити, це погана ідея.\n",
        "\n",
        "> Якщо реалізацію легко пояснити, це може бути a\n",
        "гарна ідея.\n"
      ],
      "metadata": {
        "id": "ufxJD-we02BW"
      }
    },
    {
      "cell_type": "markdown",
      "source": [
        "# Ресурси для початківців.\n",
        "\n",
        "![pic3](https://lh4.googleusercontent.com/vwfNVmwSEmF6pHE5IsULACmCe3QQgrxwoZuul4ljVb7g5dO3Hc6M3UjbB8Jq9cXvNT8=w2400 \"pic3\")\n",
        "\n",
        "https://docs.python.org/3/tutorial/\n",
        "\n",
        "![pic3](https://lh3.googleusercontent.com/5RrJxx8MUgm5FKm3fEbPre1_6uG_joWN3a0RsxhB8MTH80rv44dmgwQa3opJTP_GjBU=w2400 \"pic3\")\n",
        "\n",
        "https://wiki.python.org/moin/BeginnersGuide/Programmers\n",
        "\n",
        "![pic3](https://lh4.googleusercontent.com/OzUEYZY5-XXgUjSWzJm2xPCzv0Kt8kI9J3PNeLtMjG3EnkmIk6qK6XL8dL8BgozO58E=w2400 \"pic3\")\n",
        "\n",
        "![pic3](https://lh5.googleusercontent.com/kWid4E0AFd7nPy8B5ooiUYvAmAluMPk-2ApVBqes8FJGV5Y0OgmoNBjU06Npej4dpHM=w2400 \"pic3\")\n"
      ],
      "metadata": {
        "id": "8SKKEfil_Owu"
      }
    }
  ]
}